{
 "cells": [
  {
   "cell_type": "code",
   "execution_count": 1,
   "metadata": {
    "collapsed": true
   },
   "outputs": [],
   "source": [
    "# Remember: comments in python are denoted by the pound sign\n",
    "import numpy as np                 #here we load numpy, calling it 'np' from now on\n",
    "import matplotlib.pyplot as plt    #here we load matplotlib, calling it 'plt'\n",
    "import time, sys                   #and load some utilities\n",
    "#from IPython.core.display import clear_output #used for inline animation"
   ]
  },
  {
   "cell_type": "code",
   "execution_count": 2,
   "metadata": {
    "collapsed": true
   },
   "outputs": [],
   "source": [
    "#this makes matplotlib plots appear in the notebook (instead of a separate window)\n",
    "%matplotlib inline    "
   ]
  },
  {
   "cell_type": "code",
   "execution_count": 3,
   "metadata": {
    "collapsed": true
   },
   "outputs": [],
   "source": [
    "nx = 41  # try changing this number from 41 to 81 and Run All ... what happens?\n",
    "dx = 2./(nx-1)\n",
    "nt = 25    #nt is the number of timesteps we want to calculate\n",
    "dt = .025  #dt is the amount of time each timestep covers (delta t)\n",
    "c = 1.      #assume wavespeed of c = 1"
   ]
  },
  {
   "cell_type": "code",
   "execution_count": 6,
   "metadata": {
    "collapsed": false
   },
   "outputs": [
    {
     "name": "stdout",
     "output_type": "stream",
     "text": [
      "[ 1.  1.  1.  1.  1.  1.  1.  1.  1.  1.  2.  2.  2.  2.  2.  2.  2.  2.\n",
      "  2.  2.  2.  1.  1.  1.  1.  1.  1.  1.  1.  1.  1.  1.  1.  1.  1.  1.\n",
      "  1.  1.  1.  1.  1.]\n"
     ]
    }
   ],
   "source": [
    "u = np.ones(nx)      #numpy function ones()\n",
    "u[.5/dx : 1/dx+1]=2  #setting u = 2 between 0.5 and 1 as per our I.C.s\n",
    "print(u)"
   ]
  },
  {
   "cell_type": "code",
   "execution_count": 7,
   "metadata": {
    "collapsed": false
   },
   "outputs": [
    {
     "data": {
      "image/png": "[encoded data removed]",
      "text/plain": [
       "<matplotlib.figure.Figure at 0x1064c14e0>"
      ]
     },
     "metadata": {},
     "output_type": "display_data"
    }
   ],
   "source": [
    "plt.plot(np.linspace(0,2,nx), u);"
   ]
  },
  {
   "cell_type": "code",
   "execution_count": 8,
   "metadata": {
    "collapsed": true
   },
   "outputs": [],
   "source": [
    "un = np.ones(nx) #initialize a temporary array\n",
    "\n",
    "for n in range(nt):  #loop for values of n from 0 to nt, so it will run nt times\n",
    "    un = u.copy() ##copy the existing values of u into un\n",
    "    for i in range(1,nx): ## you can try commenting this line and...\n",
    "    #for i in range(nx): ## ... uncommenting this line and see what happens!\n",
    "        u[i] = un[i]-c*dt/dx*(un[i]-un[i-1])"
   ]
  },
  {
   "cell_type": "code",
   "execution_count": 9,
   "metadata": {
    "collapsed": false
   },
   "outputs": [
    {
     "data": {
      "image/png": "[encoded data removed]",
      "text/plain": [
       "<matplotlib.figure.Figure at 0x1064e5d68>"
      ]
     },
     "metadata": {},
     "output_type": "display_data"
    }
   ],
   "source": [
    "plt.plot(np.linspace(0,2,nx),u);"
   ]
  },
  {
   "cell_type": "code",
   "execution_count": null,
   "metadata": {
    "collapsed": true
   },
   "outputs": [],
   "source": []
  }
 ],
 "metadata": {
  "kernelspec": {
   "display_name": "Python 3",
   "language": "python",
   "name": "python3"
  },
  "language_info": {
   "codemirror_mode": {
    "name": "ipython",
    "version": 3
   },
   "file_extension": ".py",
   "mimetype": "text/x-python",
   "name": "python",
   "nbconvert_exporter": "python",
   "pygments_lexer": "ipython3",
   "version": "3.4.3"
  }
 },
 "nbformat": 4,
 "nbformat_minor": 0
}
